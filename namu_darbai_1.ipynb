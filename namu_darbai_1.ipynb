{
 "cells": [
  {
   "cell_type": "code",
   "execution_count": null,
   "metadata": {},
   "outputs": [],
   "source": [
    "#1 \n",
    "list1 = [2,4,5,6,6]\n",
    "list2 = ['a','b','c','e','e','a' ]\n",
    "print(f'Pradinis sarasas 1: {list1}')\n",
    "print(f'Pradinis sarasas 2: {list2}')\n",
    "\n",
    "#Sudeti du listus\n",
    "list3 = list1 + list2\n",
    "print(f'sudetas sarasas: {list3}')\n",
    "\n",
    "\n",
    "#Isimti paskutini nari\n",
    "list3.pop()\n",
    "print(f'istrintam paskutine nari: {list3}')\n",
    "\n",
    "#isrikiuoti negaliu, nes skiriasi duomenu tipai\n",
    "#list3.sort()\n",
    "#print(list3)\n",
    "\n",
    "#suskaiciuot kiek yra tam tikro nario\n",
    "print('suskaiciuojam raide \"e\":', list3.count('e'))\n"
   ]
  },
  {
   "cell_type": "code",
   "execution_count": null,
   "metadata": {},
   "outputs": [],
   "source": [
    "#2.1 parodyti skaicius, kurie dalinasi is 3\n",
    "\n",
    "for x in range(1,21):\n",
    "    if x % 3 ==0:\n",
    "        print(f'{x} / 3 = {int(x/3)}')\n",
    "    "
   ]
  },
  {
   "cell_type": "code",
   "execution_count": null,
   "metadata": {},
   "outputs": [],
   "source": [
    "#2.2 Tikrinant skaičius nuo 1 iki 50, pridėkite skaičių prie sumos, jei nauja einama suma bus lyginė\n",
    "suma = 0\n",
    "\n",
    "for x in range(1,51):\n",
    "    if (suma + x) % 2 == 0: \n",
    "        suma = suma + x\n",
    "        print(f'true: {suma-x} + {x} = {suma} ')\n",
    "    else:\n",
    "        suma = suma\n",
    "        #print(f'false, {suma}')"
   ]
  },
  {
   "cell_type": "code",
   "execution_count": null,
   "metadata": {},
   "outputs": [],
   "source": [
    "#3. Leiskite vartotojui pasirinkti skaičių, atspausdinkite jo sandaugą nuo 1 iki 10 tik tada, \n",
    "# jei pasirinktas skaičius pakeltas kvadratu yra nelyginis\n",
    "\n",
    "from re import L\n",
    "\n",
    "\n",
    "skaicius = input('Iveskite skaiciu')\n",
    "skaicius = int(skaicius)\n",
    "#print(type(skaicius))\n",
    "#print(skaicius)\n",
    "\n",
    "if skaicius**2 % 2 != 0:\n",
    "    print(f'skaicius {skaicius} kvadratu yra {skaicius ** 2} -  nelyginis')\n",
    "    for x in range(1,11):\n",
    "        skaicius = skaicius * x\n",
    "        print(f'{skaicius} x {x}')\n",
    "else:\n",
    "    print(f'skaicius {skaicius} kvadratu yra {skaicius **2} - lyginis')"
   ]
  },
  {
   "cell_type": "code",
   "execution_count": null,
   "metadata": {},
   "outputs": [],
   "source": [
    "#4. Gaukite visas įmanomas kombinacijas iš pateiktų sąrašų tik tada, \n",
    "# jei diena yra arba pirmadienis arba trečiadienis, o valandos yra nuo 12 iki 17, įrašykite jas į list’ą\n",
    "\n",
    "dienos = ('Pirmadienis', 'Antradienis', 'Treciadienis','Ketvirtadienis', 'Penktadienis', 'Sestadienis' , 'Sekmadienis')\n",
    "valandos = [10, 11, 12, 13, 14, 15, 16, 17, 18, 19]\n",
    "\n",
    "\n",
    "for diena in filter(lambda diena: diena =='Pirmadienis' or diena=='Treciadienis', dienos):   # as nelabai suprantu kaip filtruoti su python..\n",
    "    for valanda in filter(lambda valanda: valanda >=12 and valanda <=17, valandos):\n",
    "        print(diena, valanda)\n",
    "  "
   ]
  },
  {
   "cell_type": "code",
   "execution_count": null,
   "metadata": {},
   "outputs": [],
   "source": [
    "#5. Iš pirmų 100 skaičių, \n",
    "# jeigu skaičius dalinasi iš 2 be liekanos, atspausdinkite ‘Fizz’, \n",
    "# jeigu skaičius dalinasi iš 3 be liekanos atspausdinkite ‘Buzz’, \n",
    "# jei skaičius dalinasi iš 2 ir 3 be liekanos, atspausdinkite ‘FizzBuzz’\n",
    "\n",
    "for x in range(1,101):\n",
    "    if x % 2 == 0 and x % 3 ==0:\n",
    "        print(f\"{x} - 'FizzBuzz'\")\n",
    "    elif x % 2 == 0:\n",
    "        print(f\"{x} - 'Fizz'\")\n",
    "    elif x % 3 ==0:\n",
    "        print(f\"{x} - 'Buzz'\")\n",
    "    else:\n",
    "        print(x)\n",
    "    #print(x)\n"
   ]
  },
  {
   "cell_type": "code",
   "execution_count": null,
   "metadata": {},
   "outputs": [],
   "source": [
    "#6. Leiskite vartotojui pasirinkti skaičių, jeigu įvestas skaičius yra daugiau arba lygus 10, \n",
    "# atspausdinkite visus skaičius nuo 1 iki pateikto skaičiaus, kurie dalinasi iš 5 su liekana\n",
    "\n",
    "skaicius = input('Iveskite skaiciu')\n",
    "skaicius = int(skaicius)\n",
    "    \n",
    "\n",
    "if skaicius >=10:\n",
    "    for x in range(1,skaicius+1):\n",
    "        if x % 5 != 0: \n",
    "            print(f'{x} / 5 = {x/5}')\n",
    "else:\n",
    "    print(f'ivestas skaicius {skaicius} yra mazesnis nei 10')\n"
   ]
  },
  {
   "cell_type": "code",
   "execution_count": null,
   "metadata": {},
   "outputs": [],
   "source": [
    "#7. Koks yra sąrašo ilgis sudaryto iš pateiktų sąrašų kombinacijų, \n",
    "# jeigu norime rasti visas įmanomas reikšmes? \n",
    "# Išrikiuokite sąrašą nuo didžiausios iki mažiausios reikšmės \n",
    "# (teks atlikti papildomų veiksmų tam atlikti teisingai, naudoti viena iš 3 narių rikiavimui)\n",
    "\n",
    "\n",
    "a = ['1','2','3','4','5']\n",
    "b = ['labas', 'vakaras', 'kokia grazi diena', 'siandien uz lango', '10 laipsniu silumos']\n",
    "c = ['100', '200', 40, 10]\n",
    "\n",
    "a.sort\n",
    "b.sort\n",
    "c.sort # as nezinau kaip rikiuoti su pythonu. Reikia tureti vieninga duomenu tipa pirmiausia. Nesuprantu sitos vietos.\n",
    "\n",
    "\n",
    "kiekis = 0\n",
    "\n",
    "for x in a:\n",
    "    for y in b:\n",
    "        for z in c:\n",
    "           kiekis = kiekis+1\n",
    "           #print(x,y,z)\n",
    "print(f'kombinaciju kiekis yra {kiekis}')\n"
   ]
  },
  {
   "cell_type": "markdown",
   "metadata": {},
   "source": []
  }
 ],
 "metadata": {
  "kernelspec": {
   "display_name": "Python 3.10.6 64-bit (windows store)",
   "language": "python",
   "name": "python3"
  },
  "language_info": {
   "codemirror_mode": {
    "name": "ipython",
    "version": 3
   },
   "file_extension": ".py",
   "mimetype": "text/x-python",
   "name": "python",
   "nbconvert_exporter": "python",
   "pygments_lexer": "ipython3",
   "version": "3.10.7"
  },
  "orig_nbformat": 4,
  "vscode": {
   "interpreter": {
    "hash": "41c7215138f78ef81a9f91586e17d2a926e185c530522ad861a06b22ddd40dda"
   }
  }
 },
 "nbformat": 4,
 "nbformat_minor": 2
}
