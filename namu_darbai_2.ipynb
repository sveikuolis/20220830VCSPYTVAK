{
 "cells": [
  {
   "cell_type": "markdown",
   "metadata": {},
   "source": [
    "1. Rasti pasikartojančius elementus tarp dviejų list'ų\n",
    "a = [1,2,3,4,5,6,7,8,9,15]\n",
    "b = [3,8,9,11,15]\n",
    "Gauti rezultatą c = [3,8,9,15] nes šie skaičiai pasikartoja abiejuose listuose\n"
   ]
  },
  {
   "cell_type": "code",
   "execution_count": null,
   "metadata": {},
   "outputs": [],
   "source": [
    "\n",
    "a = [1,2,3,4,5,6,7,8,9,15]\n",
    "b = [3,8,9,11,15]\n",
    "\n",
    "a = set(a)\n",
    "b = set(b)\n",
    "\n",
    "c = a.intersection(b)\n",
    "print(sorted(c))"
   ]
  },
  {
   "cell_type": "markdown",
   "metadata": {},
   "source": [
    "2. Išfiltruoti unikalius teigiamus numeris iš sąrašo\n",
    "x = [1, 5, 1, 2, 8, -9, 10, 1, -8, -900, 14, 5, -8, 2, 1, -20, 900, 800, -6, -8, 12, 1]"
   ]
  },
  {
   "cell_type": "code",
   "execution_count": null,
   "metadata": {},
   "outputs": [],
   "source": [
    "x = [1, 5, 1, 2, 8, -9, 10, 1, -8, -900, 14, 5, -8, 2, 1, -20, 900, 800, -6, -8, 12, 1]\n",
    "\n",
    "x1 = [num for num in x if num >0] #išsirenku teigiamus narius\n",
    "x1 = set(x1)  #pakeičiu duomenų tipą į set, kad liktų tik unikalų nariai\n",
    "print(sorted(list(x1))) #pateikiu surikiuotus duomenis"
   ]
  },
  {
   "cell_type": "markdown",
   "metadata": {},
   "source": [
    "3. Paskaičiuoti pelną pardavus visas prekes. Informacija apie kainą ir kiekius yra pateikiama kaip dictionary, atsakymą suapvalinti iki 2 skaičių po kablelio.\n",
    "\n",
    "x = { \"cost_price\": 32.67, \n",
    "         \"sell_price\": 45.00,      \n",
    "          \"inventory\": 1212  }\n",
    "          "
   ]
  },
  {
   "cell_type": "code",
   "execution_count": null,
   "metadata": {},
   "outputs": [],
   "source": [
    "x = { \"cost_price\": 32.67, \n",
    "         \"sell_price\": 45.00,      \n",
    "          \"inventory\": 1212  }\n",
    "\n",
    "profit = round((x[\"sell_price\"] - x[\"cost_price\"] ) * x[\"inventory\"],2)\n",
    "print(profit)"
   ]
  },
  {
   "cell_type": "markdown",
   "metadata": {},
   "source": [
    "4. Leiskite įvesti 10 žodžių, programa turi atsakyti į tokius klausimus:\n",
    "Kiek žodžių yra ilgesnių nei 10 simbolių\n",
    "Kuris žodis yra ilgiausias ir trumpiausias\n",
    "Ar nors vienas žodis yra palindromas, jei taip, koks arba kokie tai žodžiai\n",
    "\n",
    "Palindromas - atvirkščiai skaitant žodį, gaunasi tas pats žodis.\n",
    "savas -> savas"
   ]
  },
  {
   "cell_type": "code",
   "execution_count": null,
   "metadata": {},
   "outputs": [],
   "source": [
    "\n",
    "zodziai = []  # cia saugosiu ivestus zodzius\n",
    "ilgesni_nei_10 = 0 # cia saugosiu ilgu zodziu skaiciu\n",
    "reverse = [] # cia saugosiu zodzius atbuline seka\n",
    "\n",
    "for x in range(1,11):    #prasau suvesti 10 zodziu\n",
    "    if len(zodziai) <11:\n",
    "        zodziai.append(input(f'Įveskite žodį nr.: {x} iš 10'))  # parodau kiek dar liko suvesti\n",
    "\n",
    "print(f'Įvesti žodžiai: {zodziai}')  #parodau kokius zodzius suvede\n",
    "\n",
    "for x in range(1,11):\n",
    "    reverse.append(zodziai[-1+x][::-1])  # sugeneruoju zodi atbuline seka\n",
    "    print(f'Žodis nr. {x}: \"{zodziai[-1+x]}\", ilgis = {len(zodziai[-1+x])}, atvirkštinis: \"{reverse[-1+x]}\": {\"PALINDROMAS\" if reverse[-1+x] == zodziai[-1+x] else \"nepalindromas\"}')\n",
    "    if len(zodziai[-1+x]) > 10: # Skaiciuoju ilgus zodzius\n",
    "       ilgesni_nei_10 = ilgesni_nei_10 +1\n",
    "print(f'žodžiai ilgensi nei 10 simbolių: {ilgesni_nei_10}')\n",
    "\n",
    "surikiuota = (sorted(zodziai, key=lambda x: len(x)))\n",
    "print(f'trumpiausias žodis: \"{surikiuota[0]}\"')\n",
    "print(f'ilgiausias žodis: \"{surikiuota[-1]}\"')\n",
    "\n",
    "\n"
   ]
  },
  {
   "cell_type": "markdown",
   "metadata": {},
   "source": [
    "5. Turėdami list’ą, gaukite didžiausią šalia esančių skaičių sandaugą\n",
    "\n",
    "my_list = [3, 6, -2, -5, 7, 3]\n",
    "\n",
    "rezultatas = 21, nes 7 ir 3 sandauga yra didžiausia\n"
   ]
  },
  {
   "cell_type": "code",
   "execution_count": null,
   "metadata": {},
   "outputs": [],
   "source": [
    "my_list = [3, 6, -2, -5, 7, 3]\n",
    "find_max = []\n",
    "\n",
    "for x in range(1, len(my_list)):\n",
    "    print(f' {my_list[-1+x]} x {my_list[0+x]} = {my_list[-1+x] * my_list[0+x]}')\n",
    "    find_max.append(my_list[-1+x] * my_list[0+x])\n",
    "find_max=sorted(find_max, reverse=True)\n",
    "print(f'didziausias skaicius = {find_max[0]}')"
   ]
  },
  {
   "cell_type": "code",
   "execution_count": null,
   "metadata": {},
   "outputs": [],
   "source": []
  }
 ],
 "metadata": {
  "kernelspec": {
   "display_name": "Python 3.10.7 64-bit (microsoft store)",
   "language": "python",
   "name": "python3"
  },
  "language_info": {
   "codemirror_mode": {
    "name": "ipython",
    "version": 3
   },
   "file_extension": ".py",
   "mimetype": "text/x-python",
   "name": "python",
   "nbconvert_exporter": "python",
   "pygments_lexer": "ipython3",
   "version": "3.10.7"
  },
  "orig_nbformat": 4,
  "vscode": {
   "interpreter": {
    "hash": "41c7215138f78ef81a9f91586e17d2a926e185c530522ad861a06b22ddd40dda"
   }
  }
 },
 "nbformat": 4,
 "nbformat_minor": 2
}
