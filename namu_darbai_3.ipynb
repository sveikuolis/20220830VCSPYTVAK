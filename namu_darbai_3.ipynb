{
 "cells": [
  {
   "cell_type": "markdown",
   "metadata": {},
   "source": [
    "1. Parašykite funkciją, kuri priims string tipo kintamąjį, gražinkite kiek tame stringę yra raidžių, skaičių ir skyrybos (specialių) ženklų, tarpų.\n",
    "priims stringa\n",
    "for loop kiekvienam simboliui stringe\n",
    "ar simbolis yra skaičius/raidė/tarpas/nei tas nei tas +=1\n",
    "gražinsime f stringą - “raidžiu yra: {raidziu_suma}…”\n",
    "Pavyzdys:simboliu_ieskotojas('vienas 2 ??’) \n",
    "\n",
    "->\n",
    "Raidziu yra 6, skaiciu yra 1, simboliu yra 2, tarpu yra 2"
   ]
  },
  {
   "cell_type": "code",
   "execution_count": null,
   "metadata": {},
   "outputs": [],
   "source": [
    "import string\n",
    "kint = input('Įveskite tekstą')\n",
    "specialchar = string.punctuation\n",
    "letters = string.ascii_letters\n",
    "numbers = string.digits\n",
    "\n",
    "special_count = 0\n",
    "leeter_count = 0\n",
    "number_count = 0\n",
    "\n",
    "for character in range(len(kint)):\n",
    "    if any(char in specialchar for char in kint[character:character+1]):\n",
    "        #print(f'Character: {kint[character:character+1]} is special')\n",
    "        special_count = special_count +1\n",
    "    elif any(char in letters for char in kint[character:character+1]):\n",
    "        #print(f'Character: {kint[character:character+1]} is letter')\n",
    "        leeter_count = leeter_count +1\n",
    "    elif any(char in numbers for char in kint[character:character+1]):\n",
    "        #print(f'Character: {kint[character:character+1]} is number')\n",
    "        number_count = number_count +1\n",
    "\n",
    "print(f'Įvestas tekstas: \"{kint}\"')\n",
    "print(f'Special character count: {special_count}')\n",
    "print(f'Letter count: {leeter_count}')\n",
    "print(f'Number count: {number_count}')\n",
    "\n",
    "\n"
   ]
  },
  {
   "cell_type": "markdown",
   "metadata": {},
   "source": [
    "2.Parašykite funkciją, kuri priima tris skaičius, jie reikš nuo, iki ir žingsnis. Funkcija turi grąžinti listą skaičių tokių, kokius padavėte funkcijai\n",
    "\n",
    "\n",
    "print(skaiciuKurejas(10,100,5)) ->\n",
    "[10, 15, 20, 25, 30, 35, 40, 45, 50, 55, 60, 65, 70, 75, 80, 85, 90, 95]"
   ]
  },
  {
   "cell_type": "code",
   "execution_count": 133,
   "metadata": {},
   "outputs": [],
   "source": [
    "def add_numbers(begining, enging, step):\n",
    "    mylist=[begining]\n",
    "    while mylist[-1] < enging:\n",
    "        mylist.append(mylist[-1] + step)\n",
    "    print(mylist)\n"
   ]
  },
  {
   "cell_type": "code",
   "execution_count": 132,
   "metadata": {},
   "outputs": [
    {
     "name": "stdout",
     "output_type": "stream",
     "text": [
      "[10, 15, 20, 25, 30, 35, 40, 45, 50, 55, 60, 65, 70, 75, 80, 85, 90, 95, 100]\n"
     ]
    }
   ],
   "source": [
    "add_numbers(10,100,5)"
   ]
  },
  {
   "cell_type": "markdown",
   "metadata": {},
   "source": [
    "3. Parašyti funkciją, kuri priima vieną list tipo kintamąjį, funkcija grąžina skirtumą tarp didžiausio skaičiaus ir mažiausio skaičiaus.\n",
    "\n",
    "\n",
    "myFunction([1, 5, 6, 10, 4])\n",
    "\n",
    "ATS: 9 , nes max yra 10, o min yra 1 "
   ]
  },
  {
   "cell_type": "code",
   "execution_count": 144,
   "metadata": {},
   "outputs": [],
   "source": [
    "def myFunction(list1):\n",
    "    print(f'pateiktas sąrašas: {list1}')\n",
    "    print(f'didžiausia reikšmė: {max(list1)}')\n",
    "    print(f'mažiausia reikšmė: {min(list1)}')\n",
    "    print(f'skirtumas: {max(list1)} - {min(list1)} = {max(list1)- min(list1)}')"
   ]
  },
  {
   "cell_type": "code",
   "execution_count": 146,
   "metadata": {},
   "outputs": [
    {
     "name": "stdout",
     "output_type": "stream",
     "text": [
      "pateiktas sąrašas: [1, 5, 6, 10, 4]\n",
      "didžiausia reikšmė: 10\n",
      "mažiausia reikšmė: 1\n",
      "skirtumas: 10 - 1 = 9\n"
     ]
    }
   ],
   "source": [
    "myFunction([1,5,6,10,4])"
   ]
  },
  {
   "cell_type": "code",
   "execution_count": null,
   "metadata": {},
   "outputs": [],
   "source": []
  }
 ],
 "metadata": {
  "kernelspec": {
   "display_name": "Python 3.10.7 64-bit (microsoft store)",
   "language": "python",
   "name": "python3"
  },
  "language_info": {
   "codemirror_mode": {
    "name": "ipython",
    "version": 3
   },
   "file_extension": ".py",
   "mimetype": "text/x-python",
   "name": "python",
   "nbconvert_exporter": "python",
   "pygments_lexer": "ipython3",
   "version": "3.10.7"
  },
  "orig_nbformat": 4,
  "vscode": {
   "interpreter": {
    "hash": "41c7215138f78ef81a9f91586e17d2a926e185c530522ad861a06b22ddd40dda"
   }
  }
 },
 "nbformat": 4,
 "nbformat_minor": 2
}
