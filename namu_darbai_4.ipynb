{
 "cells": [
  {
   "cell_type": "markdown",
   "metadata": {},
   "source": [
    "Sukurti savo klasę, kuri turėtų bent 2 argumentus __init__ metodui bei bent 3 papildomus metodus.\n",
    "\n",
    "Pvz. Sukurti klasę, kuri aprašo kas yra bankomatas ir kaip juo galima naudotis. "
   ]
  },
  {
   "cell_type": "code",
   "execution_count": 190,
   "metadata": {},
   "outputs": [],
   "source": [
    "#Class vardai rašomi \"Camel Case\" pvz WaterPipe.\n",
    "\n",
    "class Bankomatas:\n",
    "    def __init__(self, numeris, adresas, likutis):  #self visuomet yra pirmas argumentas. Visus kitus pats sugalvoji\n",
    "        self.numeris = numeris\n",
    "        self.adresas = adresas\n",
    "        self.priima = 'priima'\n",
    "        self.isduoda = 'isduoda'\n",
    "        self.statusas = 'online'\n",
    "\n",
    "        self.likutis = likutis\n",
    "        self.talpa = 10000\n",
    "\n",
    "    def __str__(self):\n",
    "        return f'Bankomatas nr: {self.numeris}, adresas: {self.adresas}, priima pinigus: {self.priima}, isduoda pinigus: {self.isduoda}, statusas: {self.statusas}, likutis: {self.likutis}' \n",
    "    \n",
    "    def patikrinti_likuti(self):\n",
    "        return f'Bankomato nr.: {self.numeris} pinigu_likutis: {self.likutis}'\n",
    "\n",
    "    def isimti_pinigus(self, data, kiekis):\n",
    "        if self.likutis - kiekis > 0:\n",
    "            self.likutis -= kiekis\n",
    "            self.isduoda = 'isduoda'\n",
    "            return f'Data: {data}, operacijos tipas: išėmimas, kiekis: {kiekis}'\n",
    "        else:\n",
    "            self.isduoda = 'neisduoda'\n",
    "            return f'Bankomate nėra pinigų'\n",
    "\n",
    "    def ideti_pinigus(self, data, suma):\n",
    "        if self.likutis + suma <= self.talpa:\n",
    "            self.likutis = self.likutis + suma\n",
    "            self.priima = 'priima'\n",
    "            return f'Data: {data}, operacijos tipas: įnešimas, kiekis: {suma}'\n",
    "        else:\n",
    "            self.priima = 'nepriima'\n",
    "            return f'Bankomatas pinigų nepriima'\n",
    "            \n"
   ]
  },
  {
   "cell_type": "code",
   "execution_count": 191,
   "metadata": {},
   "outputs": [],
   "source": [
    "Bankomatas_1 = Bankomatas(1, 'Gedimino pr. 9', 10000)\n",
    "Bankomatas_2 = Bankomatas(2, 'Saltoniškių g. 2',10000)\n",
    "Bankomatas_3 = Bankomatas(3, 'Mindaugo g. 12', 10000)\n"
   ]
  },
  {
   "cell_type": "code",
   "execution_count": null,
   "metadata": {},
   "outputs": [],
   "source": [
    "print(Bankomatas_1)\n",
    "print(Bankomatas_1.patikrinti_likuti())\n",
    "print(Bankomatas_1.isimti_pinigus('2022-09-30',3000))\n",
    "print(Bankomatas_1.patikrinti_likuti())\n",
    "print(Bankomatas_1.ideti_pinigus('2022-10-01', 1000))\n",
    "print(Bankomatas_1.patikrinti_likuti())"
   ]
  },
  {
   "cell_type": "code",
   "execution_count": null,
   "metadata": {},
   "outputs": [],
   "source": []
  },
  {
   "cell_type": "code",
   "execution_count": null,
   "metadata": {},
   "outputs": [],
   "source": []
  }
 ],
 "metadata": {
  "kernelspec": {
   "display_name": "Python 3.10.7 64-bit (microsoft store)",
   "language": "python",
   "name": "python3"
  },
  "language_info": {
   "codemirror_mode": {
    "name": "ipython",
    "version": 3
   },
   "file_extension": ".py",
   "mimetype": "text/x-python",
   "name": "python",
   "nbconvert_exporter": "python",
   "pygments_lexer": "ipython3",
   "version": "3.10.7"
  },
  "orig_nbformat": 4,
  "vscode": {
   "interpreter": {
    "hash": "41c7215138f78ef81a9f91586e17d2a926e185c530522ad861a06b22ddd40dda"
   }
  }
 },
 "nbformat": 4,
 "nbformat_minor": 2
}
